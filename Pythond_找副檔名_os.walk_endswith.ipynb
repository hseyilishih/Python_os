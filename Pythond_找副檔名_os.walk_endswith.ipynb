{
 "cells": [
  {
   "cell_type": "code",
   "execution_count": 1,
   "metadata": {},
   "outputs": [
    {
     "name": "stdout",
     "output_type": "stream",
     "text": [
      "搜尋D槽內副檔名為 ppt or pptx , 總共找到檔案數= 297\n"
     ]
    }
   ],
   "source": [
    "#==========提醒事項\n",
    "# 記得要先關output file, 否則會出現  PermissionError: [Errno 13] Permission denied: 'd:\\\\output_ppt_20180304.xls'\n",
    "# 輸出檔案名字到 d:\\output_searched.xls\n",
    "#==========import\n",
    "import os\n",
    "\n",
    "#==========initialization & input parameter\n",
    "input_xxx1 = 'ppt'\n",
    "input_xxx2 = 'pptx'\n",
    "list_output_files = []\n",
    "\n",
    "#==========main process\n",
    "for root, folder, files in os.walk('D:\\\\'):\n",
    "#不能放有反斜線的 d:\\ , 只能放 d: 或者 d:/, 或者 d:\\\\ 兩條線\n",
    "    for x in files:\n",
    "        if x.endswith(input_xxx1 ) or x.endswith(input_xxx2):\n",
    "            list_output_files.append(os.path.join(root,x))\n",
    "            \n",
    "print(\"搜尋D槽內副檔名為\", input_xxx1, \"or\", input_xxx2,  \", 總共找到檔案數=\", len(list_output_files))     \n",
    "\n",
    "with open(\"d:\\output_searched.xls\" , 'w') as output_excel:\n",
    "    for x in list_output_files:\n",
    "        #print(x)\n",
    "        output_excel.write(x)\n",
    "        output_excel.write(\"\\n\") "
   ]
  },
  {
   "cell_type": "code",
   "execution_count": null,
   "metadata": {
    "collapsed": true
   },
   "outputs": [],
   "source": []
  }
 ],
 "metadata": {
  "kernelspec": {
   "display_name": "Python 3",
   "language": "python",
   "name": "python3"
  },
  "language_info": {
   "codemirror_mode": {
    "name": "ipython",
    "version": 3
   },
   "file_extension": ".py",
   "mimetype": "text/x-python",
   "name": "python",
   "nbconvert_exporter": "python",
   "pygments_lexer": "ipython3",
   "version": "3.6.3"
  }
 },
 "nbformat": 4,
 "nbformat_minor": 2
}
